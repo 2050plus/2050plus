{
 "cells": [
  {
   "cell_type": "code",
   "execution_count": null,
   "metadata": {},
   "outputs": [],
   "source": [
    "import pypsa\n",
    "from pathlib import Path\n",
    "import pandas as pd"
   ]
  },
  {
   "cell_type": "code",
   "execution_count": null,
   "metadata": {},
   "outputs": [],
   "source": [
    "fn = \"elec_s181_37m_lv3.0__3H-I-T-H-B-A-CCL_2030.nc\"\n",
    "n = pypsa.Network(fn)"
   ]
  },
  {
   "cell_type": "code",
   "execution_count": null,
   "metadata": {},
   "outputs": [],
   "source": [
    "n.links.query(\"carrier.str.contains('for industry CC|emissions CC') and Link.str.contains('BE')\")[[i for i in n.links.columns if \"bus\" in i]]\n",
    "# manque methanolisation / Fischer-Troopsch à ajouter à la main"
   ]
  },
  {
   "cell_type": "code",
   "execution_count": null,
   "metadata": {},
   "outputs": [],
   "source": [
    "idx = n.links.query(\"carrier.str.contains('for industry CC|emissions CC') and Link.str.contains('BE')\")[[i for i in n.links.columns if \"bus\" in i]].index\n",
    "n.links_t.p3[idx].sum()\n",
    "# Attention p2 pour process\n",
    "# Attention SMR CC, biomass to liquid, biogas to gas CC, solid biomass to gas CC ? Industriel ?\n",
    "# Capture uniquement pour Industrie ? \n",
    "# DAC ?"
   ]
  },
  {
   "cell_type": "code",
   "execution_count": null,
   "metadata": {},
   "outputs": [],
   "source": [
    "n.links.query(\"(bus3.str.contains('co2 stored') or bus1.str.contains('co2 stored') or bus0.str.contains('co2 stored') or bus4.str.contains('co2 stored') or bus2.str.contains('co2 stored')) and Link.str.contains('BE') and not Link.str.contains('CC')\")\n",
    "# Quantité de CO2 ou quantité efeuls ? préférence pour CO2\n",
    "# Quid des imports ? Conditions ? via pipeline"
   ]
  },
  {
   "cell_type": "code",
   "execution_count": null,
   "metadata": {},
   "outputs": [],
   "source": [
    "n.links_t.p2[\"BE0 0 Fischer-Tropsch-2030\"].sum()\n",
    "# tCO2 pour FT\n",
    "# Attention au bus # en fonction du processus"
   ]
  },
  {
   "cell_type": "code",
   "execution_count": null,
   "metadata": {},
   "outputs": [],
   "source": [
    "n.links_t.p1[\"BE0 0 Fischer-Tropsch-2030\"].sum()\n",
    "# MWh de methanol\n",
    "\n",
    "# en l'entrée de chaque process ou pour tous les process, imposer une quantité de CO2"
   ]
  },
  {
   "cell_type": "code",
   "execution_count": null,
   "metadata": {},
   "outputs": [],
   "source": [
    "# risque ? import vs production en local ? Est-ce que la Flanders doit être produit localement\n",
    "# options\n",
    "# 1. imposer la contrainte de besoin syn à l'échelle EU >< contrainte faible\n",
    "# 2. imposer la production à l'échelle de FL >< contrainte trop forte\n",
    "# 3. mix en % : produit 100%, FL x%\n",
    "# trade ou production local ?\n",
    "\n",
    "\n",
    "\n",
    "# regionaliser ou pas oil, methanol , etc ? La question est de savoir si on veut forcer la production local ou pas. Sachant qu'il n'y a pas de transport.\n"
   ]
  }
 ],
 "metadata": {
  "kernelspec": {
   "display_name": "pypsa-eur-v10",
   "language": "python",
   "name": "python3"
  },
  "language_info": {
   "codemirror_mode": {
    "name": "ipython",
    "version": 3
   },
   "file_extension": ".py",
   "mimetype": "text/x-python",
   "name": "python",
   "nbconvert_exporter": "python",
   "pygments_lexer": "ipython3",
   "version": "3.11.8"
  }
 },
 "nbformat": 4,
 "nbformat_minor": 2
}
