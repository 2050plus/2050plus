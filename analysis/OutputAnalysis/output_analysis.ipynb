{
 "cells": [
  {
   "attachments": {},
   "cell_type": "markdown",
   "metadata": {},
   "source": [
    "# Output Analysis\n",
    "\n",
    "This file is used to analyze output."
   ]
  },
  {
   "cell_type": "markdown",
   "metadata": {},
   "source": [
    "## 1. Setting up the networks to analyse"
   ]
  },
  {
   "cell_type": "code",
   "execution_count": null,
   "metadata": {},
   "outputs": [],
   "source": [
    "import os\n",
    "\n",
    "if not os.getcwd().endswith(\"pypsa-eur-climact\"):\n",
    "    %cd ../..\n",
    "%pwd"
   ]
  },
  {
   "cell_type": "code",
   "execution_count": null,
   "metadata": {},
   "outputs": [],
   "source": [
    "from pathlib import Path\n",
    "import pypsa\n",
    "import pandas as pd\n",
    "import pylab\n",
    "\n",
    "%matplotlib inline\n",
    "pylab.rcParams[\"figure.figsize\"] = (25, 6)\n",
    "pd.set_option(\"display.width\", 1000)\n",
    "\n",
    "n_path = Path(\"analysis\", \"CANEurope_allam_false_nuc_phase_out_costs_up_v1_5_no_dac_0.8_cap\", \"results\")\n",
    "n_name = \"elec_s181_37m_lv1.5__3H_\""
   ]
  },
  {
   "cell_type": "code",
   "execution_count": null,
   "metadata": {},
   "outputs": [],
   "source": [
    "font = 13\n",
    "def graph_display(n: dict[int, pd.DataFrame], kind: str = \"plot\", title: str = \"\", unit: str = \"\"):\n",
    "    df = []\n",
    "    for k, ni in n.items():\n",
    "        ax = df.append(ni.sum(axis=1).rename(f\"{k}\"))\n",
    "    df = pd.concat(df, axis=1)\n",
    "    if kind == \"plot\":\n",
    "        ax = df.sort_index().fillna(method=\"ffill\").plot()\n",
    "        ax.set_ylabel(unit, fontsize=font)\n",
    "        ax.set_title(title, fontsize=font)\n",
    "    elif kind == \"bar\":\n",
    "        ax = df.plot.bar()\n",
    "        ax.set_ylabel(unit, fontsize=font)\n",
    "        ax.set_title(title, fontsize=font)\n",
    "    elif kind == \"hist\":\n",
    "        ax = df.plot.hist(alpha=0.8)\n",
    "        ax.set_xlabel(unit, fontsize=font)\n",
    "        ax.set_title(title, fontsize=font)\n",
    "    else:\n",
    "        raise RuntimeError\n",
    "    \n",
    "    ax.spines['top'].set_visible(False)\n",
    "    ax.spines['right'].set_visible(False)\n",
    "\n",
    "def get_state_of_charge_t(n, carrier):\n",
    "    df = n.storage_units_t.state_of_charge.T.reset_index()\n",
    "    df = df.merge(n.storage_units.reset_index()[[\"carrier\", \"StorageUnit\"]], on=\"StorageUnit\")\n",
    "    df = df.groupby(by=\"carrier\").sum()\n",
    "    del df[\"StorageUnit\"]\n",
    "    return df.T[[carrier]]\n",
    "\n",
    "def get_e_t(n, carrier):\n",
    "    df = n.stores_t.e.T.reset_index()\n",
    "    df = df.merge(n.stores.reset_index()[[\"carrier\", \"Store\"]], on=\"Store\")\n",
    "    df = df.groupby(by=\"carrier\").sum()\n",
    "    del df[\"Store\"]\n",
    "    return df.T[[carrier]]"
   ]
  },
  {
   "cell_type": "code",
   "execution_count": null,
   "metadata": {},
   "outputs": [],
   "source": [
    "years = [2030, 2035, 2040]\n",
    "n = {}\n",
    "for y in years:\n",
    "    n[f\"{y}\"] = pypsa.Network(Path(n_path, \"postnetworks\", n_name + f\"{y}.nc\"))"
   ]
  },
  {
   "cell_type": "markdown",
   "metadata": {},
   "source": [
    "## 2. Displaying installed capacities for power supply units"
   ]
  },
  {
   "cell_type": "code",
   "execution_count": null,
   "metadata": {},
   "outputs": [],
   "source": [
    "var = \"p_nom_opt\"\n",
    "storage_exclude = [\"H2 Electrolysis\", \"H2 Fuel Cell\", \"battery charger\", \"battery discharger\", \"home battery charger\", \"home battery discharger\", \"Haber-Bosch\", \"Sabatier\", \"ammonia cracker\", \"helmeth\", \"SMR\", \"SMR CC\"]\n",
    "gens = [\"coal\", \"gas\", \"lignite\", \"uranium\", \"oil\", \"biomass\"]\n",
    "generators_carrier_exclude = storage_exclude + gens +[\"DC\", \"gas pipeline\", \"gas pipeline new\", \"CO2 pipeline\", \"H2 pipeline\", \"H2 pipeline retrofitted\", \"electricity distribution grid\"]\n",
    "renamer = {\"offwind-dc\": \"offwind\", \"offwind-ac\": \"offwind\", \"solar rooftop\": \"solar\"}\n",
    "\n",
    "n_links = {}\n",
    "for y in years:\n",
    "    n_y = pd.concat([n[str(y)].links.groupby(by=\"carrier\").sum(), n[str(y)].generators.groupby(by=\"carrier\").sum(), n[str(y)].storage_units.groupby(by=\"carrier\").sum()])\n",
    "    n_y = n_y.rename(index=renamer)\n",
    "    n_y = n_y[~n_y.index.isin(generators_carrier_exclude)]\n",
    "    n_links[y] = n_y\n",
    "graph_display({k: ni.groupby(by=\"carrier\").sum()[[var]]/1e3 for k, ni in n_links.items()}, kind=\"bar\", title=\"Optimised capacity for active power for various planning horizons\", unit=\"GW\")"
   ]
  },
  {
   "cell_type": "markdown",
   "metadata": {},
   "source": [
    "## 3. Displaying installed capacities for power balance units"
   ]
  },
  {
   "cell_type": "code",
   "execution_count": null,
   "metadata": {},
   "outputs": [],
   "source": [
    "n_storage = {}\n",
    "for y in years:\n",
    "    n_y = pd.concat([n[str(y)].links.groupby(by=\"carrier\").sum(), n[str(y)].generators.groupby(by=\"carrier\").sum()])\n",
    "    n_y = n_y.rename(index=renamer)\n",
    "    n_y = n_y[n_y.index.isin(gens)]\n",
    "    n_storage[y] = n_y\n",
    "graph_display({k: ni.groupby(by=\"carrier\").sum()[[var]]/1e3 for k, ni in n_storage.items()}, kind=\"bar\", title=\"Optimised generation for active power for various planning horizons\", unit=\"GW\")\n",
    "\n",
    "n_storage = {}\n",
    "for y in years:\n",
    "    n_y = pd.concat([n[str(y)].links.groupby(by=\"carrier\").sum(), n[str(y)].generators.groupby(by=\"carrier\").sum()])\n",
    "    n_y = n_y.rename(index=renamer)\n",
    "    n_y = n_y[n_y.index.isin([c for c in gens if c != \"gas\"])]\n",
    "    n_storage[y] = n_y\n",
    "graph_display({k: ni.groupby(by=\"carrier\").sum()[[var]]/1e3 for k, ni in n_storage.items()}, kind=\"bar\", title=\"Optimised generation for active power for various planning horizons (without gas)\", unit=\"GW\")"
   ]
  },
  {
   "cell_type": "code",
   "execution_count": null,
   "metadata": {},
   "outputs": [],
   "source": [
    "n_storage = {}\n",
    "for y in years:\n",
    "    n_y = pd.concat([n[str(y)].links.groupby(by=\"carrier\").sum(), n[str(y)].generators.groupby(by=\"carrier\").sum()])\n",
    "    n_y = n_y.rename(index=renamer)\n",
    "    n_y = n_y[n_y.index.isin(storage_exclude)]\n",
    "    n_storage[y] = n_y\n",
    "graph_display({k: ni.groupby(by=\"carrier\").sum()[[var]]/1e3 for k, ni in n_storage.items()}, kind=\"bar\", title=\"Optimised capacity for active power for various planning horizons\", unit=\"GW\")"
   ]
  },
  {
   "cell_type": "markdown",
   "metadata": {},
   "source": [
    "## 4. Displaying optimal capacity of transmission network"
   ]
  },
  {
   "cell_type": "code",
   "execution_count": null,
   "metadata": {},
   "outputs": [],
   "source": [
    "from IPython.display import Image\n",
    "\n",
    "for y in years:\n",
    "    filename = n_name + f\"{y}-today\"\n",
    "    path = Path(n_path, \"maps\")\n",
    "    file_pdf = Path(path, filename + \".pdf\")\n",
    "    file_png = Path(path, filename)\n",
    "    ! pdftoppm {file_pdf} {file_png} -png\n",
    "    print(f\"Transmission network capacities for AC (brown) and DC (green) for {y}\")\n",
    "    display(Image(str(file_png) + \"-1.png\"))"
   ]
  },
  {
   "cell_type": "code",
   "execution_count": null,
   "metadata": {},
   "outputs": [],
   "source": [
    "from IPython.display import Image\n",
    "\n",
    "for y in years:\n",
    "    filename = n_name[:-1] + f\"-h2_network_{y}\"\n",
    "    path = Path(n_path, \"maps\")\n",
    "    file_pdf = Path(path, filename + \".pdf\")\n",
    "    file_png = Path(path, filename)\n",
    "    ! pdftoppm {file_pdf} {file_png} -png\n",
    "    print(f\"H2 network for {y}\")\n",
    "    display(Image(str(file_png) + \"-1.png\"))"
   ]
  },
  {
   "cell_type": "markdown",
   "metadata": {},
   "source": [
    "## 5. Displaying annual profiles for storage units"
   ]
  },
  {
   "cell_type": "code",
   "execution_count": null,
   "metadata": {},
   "outputs": [],
   "source": [
    "for carrier in [\"hydro\", \"PHS\"]:\n",
    "    graph_display({k: get_state_of_charge_t(ni, carrier)/1e6 for k, ni in n.items()}, title=f\"State of charge of {carrier} for years \"+ \", \".join([str(y) for y in years]), unit=\"TWh\")\n",
    "for carrier in [\"H2 Store\", \"battery\", \"home battery\", \"co2 stored\", \"ammonia store\"]:\n",
    "    graph_display({k: get_e_t(ni, carrier)/1e6 for k, ni in n.items()}, title=f\"State of charge of {carrier} for years \"+ \", \".join([str(y) for y in years]), unit=r\"Mt$_{co2}$\"if carrier ==\"co2 stored\" else \"TWh\")"
   ]
  }
 ],
 "metadata": {
  "kernelspec": {
   "display_name": "Python 3 (ipykernel)",
   "language": "python",
   "name": "python3"
  },
  "language_info": {
   "codemirror_mode": {
    "name": "ipython",
    "version": 3
   },
   "file_extension": ".py",
   "mimetype": "text/x-python",
   "name": "python",
   "nbconvert_exporter": "python",
   "pygments_lexer": "ipython3",
   "version": "3.10.12"
  }
 },
 "nbformat": 4,
 "nbformat_minor": 4
}
