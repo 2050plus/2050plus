{
 "cells": [
  {
   "attachments": {},
   "cell_type": "markdown",
   "metadata": {},
   "source": [
    "# Compare Analysis\n",
    "\n",
    "This file is used to compare outputs."
   ]
  },
  {
   "cell_type": "markdown",
   "metadata": {},
   "source": [
    "## 1. Setting up the networks to analyse"
   ]
  },
  {
   "cell_type": "code",
   "execution_count": null,
   "metadata": {},
   "outputs": [],
   "source": [
    "import os\n",
    "\n",
    "if not os.getcwd().endswith(\"pypsa-eur-climact\"):\n",
    "    %cd ../..\n",
    "%pwd"
   ]
  },
  {
   "cell_type": "code",
   "execution_count": null,
   "metadata": {},
   "outputs": [],
   "source": [
    "from pathlib import Path\n",
    "import pypsa\n",
    "import pandas as pd\n",
    "import pylab\n",
    "import re\n",
    "\n",
    "%matplotlib inline\n",
    "pylab.rcParams[\"figure.figsize\"] = (25, 6)\n",
    "pd.set_option(\"display.width\", 1000)\n",
    "\n",
    "netlist = {\n",
    "    \"VEKA_av\": {\n",
    "        \"path\": Path(\"analysis\", \"VEKA_av_bio_fix_nuc_bev\", \"results\"),\n",
    "        \"fn\": \"elec_s181_37m_lv3.0__3H-I-T-H-B-A_\",\n",
    "    },\n",
    "    \"VEKA_el\": {\n",
    "        \"path\": Path(\"analysis\", \"VEKA_el_bio_fix_nuc_bev\", \"results\"),\n",
    "        \"fn\": \"elec_s181_37m_lv3.0__3H-I-T-H-B-A_\",\n",
    "    },\n",
    "}\n",
    "\n",
    "year = 2050\n",
    "netlist = {f\"{k} {year}\": v for k, v in netlist.items()}"
   ]
  },
  {
   "cell_type": "code",
   "execution_count": null,
   "metadata": {},
   "outputs": [],
   "source": [
    "font = 13\n",
    "def graph_display(n: dict[int, pd.DataFrame], kind: str = \"plot\", title: str = \"\", unit: str = \"\"):\n",
    "    df = []\n",
    "    for k, ni in n.items():\n",
    "        ax = df.append(ni.sum(axis=1).rename(f\"{k}\"))\n",
    "    df = pd.concat(df, axis=1)\n",
    "    if kind == \"plot\":\n",
    "        ax = df.sort_index().fillna(method=\"ffill\").plot()\n",
    "        ax.set_ylabel(unit, fontsize=font)\n",
    "        ax.set_title(title, fontsize=font)\n",
    "    elif kind == \"bar\":\n",
    "        ax = df.plot.bar()\n",
    "        ax.set_ylabel(unit, fontsize=font)\n",
    "        ax.set_title(title, fontsize=font)\n",
    "    elif kind == \"hist\":\n",
    "        ax = df.plot.hist(alpha=0.8)\n",
    "        ax.set_xlabel(unit, fontsize=font)\n",
    "        ax.set_title(title, fontsize=font)\n",
    "    else:\n",
    "        raise RuntimeError\n",
    "    \n",
    "    ax.spines['top'].set_visible(False)\n",
    "    ax.spines['right'].set_visible(False)\n",
    "\n",
    "def get_state_of_charge_t(n, carrier):\n",
    "    df = n.storage_units_t.state_of_charge.T.reset_index()\n",
    "    df = df.merge(n.storage_units.reset_index()[[\"carrier\", \"StorageUnit\"]], on=\"StorageUnit\")\n",
    "    df = df.groupby(by=\"carrier\").sum()\n",
    "    del df[\"StorageUnit\"]\n",
    "    return df.T[[carrier]]\n",
    "\n",
    "def get_e_t(n, carrier):\n",
    "    df = n.stores_t.e.T.reset_index()\n",
    "    df = df.merge(n.stores.reset_index()[[\"carrier\", \"Store\"]], on=\"Store\")\n",
    "    df = df.groupby(by=\"carrier\").sum()\n",
    "    del df[\"Store\"]\n",
    "    return df.T[[carrier]]"
   ]
  },
  {
   "cell_type": "code",
   "execution_count": null,
   "metadata": {},
   "outputs": [],
   "source": [
    "n = {}\n",
    "for k, v in netlist.items():\n",
    "    n[k] = pypsa.Network(Path(v[\"path\"], \"postnetworks\", v[\"fn\"] + f\"{year}.nc\"))"
   ]
  },
  {
   "cell_type": "markdown",
   "metadata": {},
   "source": [
    "## 2. Evaluate renewables potential"
   ]
  },
  {
   "cell_type": "code",
   "execution_count": null,
   "metadata": {},
   "outputs": [],
   "source": [
    "renamer = {\"offwind-dc\": \"offwind\", \"offwind-ac\": \"offwind\", \"solar rooftop\": \"solar\", \"coal\": \"coal/lignite\", \"lignite\": \"coal/lignite\",\n",
    "\"residential rural biomass boiler\": \"residential / services biomass boiler\",\n",
    "\"residential urban decentral biomass boiler\": \"residential / services biomass boiler\",\n",
    "\"services rural biomass boiler\": \"residential / services biomass boiler\",\n",
    "\"services urban decentral biomass boiler\": \"residential / services biomass boiler\",\n",
    "\"residential rural gas boiler\": \"residential / services gas boiler\",\n",
    "\"residential urban decentral gas boiler\": \"residential / services gas boiler\",\n",
    "\"services rural gas boiler\": \"residential / services gas boiler\",\n",
    "\"services urban decentral gas boiler\": \"residential / services gas boiler\",\n",
    "\"urban central gas boiler\": \"residential / services gas boiler\",\n",
    "\"residential rural water tanks charger\": \"residential / services water tanks charger\",\n",
    "\"residential urban decentral water tanks charger\": \"residential / services water tanks charger\",\n",
    "\"services rural water tanks charger\": \"residential / services water tanks charger\",\n",
    "\"services urban decentral water tanks charger\": \"residential / services water tanks charger\",\n",
    "\"urban central water tanks charger\": \"residential / services water tanks charger\",\n",
    "\"residential rural water tanks discharger\": \"residential / services water tanks discharger\",\n",
    "\"residential urban decentral water tanks discharger\": \"residential / services water tanks discharger\",\n",
    "\"services rural water tanks discharger\": \"residential / services water tanks discharger\",\n",
    "\"services urban decentral water tanks discharger\": \"residential / services water tanks discharger\",\n",
    "\"urban central water tanks discharger\": \"residential / services water tanks discharger\",\n",
    "\"residential rural ground heat pump\": \"residential / services rural ground heat pump\",\n",
    "\"services rural ground heat pump\": \"residential / services rural ground heat pump\",\n",
    "\"residential rural oil boiler\": \"residential / services oil boiler\",\n",
    "\"residential urban decentral oil boiler\": \"residential / services oil boiler\",\n",
    "\"services rural oil boiler\": \"residential / services oil boiler\",\n",
    "\"services urban decentral oil boiler\": \"residential / services oil boiler\",\n",
    "\"urban central oil boiler\": \"residential / services oil boiler\",\n",
    "\"residential rural resistive heater\": \"residential / services resistive heater\",\n",
    "\"residential urban decentral resistive heater\": \"residential / services resistive heater\",\n",
    "\"services rural resistive heater\": \"residential / services resistive heater\",\n",
    "\"services urban decentral resistive heater\": \"residential / services resistive heater\",\n",
    "\"urban central resistive heater\": \"residential / services resistive heater\",\n",
    "\"residential rural solar thermal\": \"residential / services solar thermal\",\n",
    "\"residential urban decentral solar thermal\": \"residential / services solar thermal\",\n",
    "\"services rural solar thermal\": \"residential / services solar thermal\",\n",
    "\"services urban decentral solar thermal\": \"residential / services solar thermal\",\n",
    "\"urban central solar thermal\": \"residential / services solar thermal\",\n",
    "\"residential urban decentral air heat pump\": \"residential / services air heat pump\",\n",
    "\"services urban decentral air heat pump\": \"residential / services air heat pump\",\n",
    "\"urban central air heat pump\": \"residential / services air heat pump\",\n",
    "}"
   ]
  },
  {
   "cell_type": "code",
   "execution_count": null,
   "metadata": {},
   "outputs": [],
   "source": [
    "rx = re.compile(\"([A-z]+)[0-9]+\\s[0-9]+\\s([A-z\\-\\s]+)-*([0-9]*)\")\n",
    "dimensions = [\"region\", \"carrier\", \"build_year\"]\n",
    "\n",
    "dfx = []\n",
    "for run, ni in n.items():\n",
    "    df_max = pd.DataFrame(ni.generators.p_nom_max)\n",
    "    df_opt = pd.DataFrame(ni.generators.p_nom_opt)\n",
    "    df = df_max.join(df_opt).reset_index()\n",
    "    df[dimensions] = df[\"Generator\"].str.extract(rx)\n",
    "    df[\"carrier\"] = df[\"carrier\"].str.rstrip(\"-\").replace(renamer)\n",
    "    df[\"run\"] = run\n",
    "    df = df[df[\"carrier\"].isin([\"onwind\", \"offwind\", \"solar\"])]\n",
    "    dfx.append(df.groupby([\"run\", \"carrier\", \"build_year\"]).sum(numeric_only=True)/1e3) #GW\n",
    "\n",
    "dfx = pd.concat(dfx)\n",
    "df_potential = pd.concat([\n",
    "    dfx.loc[dfx[\"p_nom_opt\"].index.get_level_values(\"build_year\") != str(year), \"p_nom_opt\"].groupby([\"run\", \"carrier\"]).sum(), \n",
    "    dfx.loc[dfx[\"p_nom_max\"].index.get_level_values(\"build_year\") == str(year), \"p_nom_max\"].groupby([\"run\", \"carrier\"]).sum()\n",
    "    ], axis=1)\n",
    "df_potential.fillna(0, inplace=True)\n",
    "df_potential[\"potential\"] = df_potential[\"p_nom_opt\"] + df_potential[\"p_nom_max\"]\n",
    "df_potential = df_potential.reset_index().pivot(index=\"carrier\", columns=\"run\", values=\"potential\")\n",
    "df_potential.plot(kind=\"bar\", title=\"Renewables potential\", ylabel=\"GW\")"
   ]
  },
  {
   "cell_type": "markdown",
   "metadata": {},
   "source": [
    "## 3. Displaying installed capacities for power supply units"
   ]
  },
  {
   "cell_type": "code",
   "execution_count": null,
   "metadata": {},
   "outputs": [],
   "source": [
    "var = \"p_nom_opt\"\n",
    "balance_exclude = [\"H2 Electrolysis\", \"H2 Fuel Cell\", \"battery charger\", \"battery discharger\", \"home battery charger\", \"home battery discharger\", \"Haber-Bosch\", \"Sabatier\", \"ammonia cracker\", \"helmeth\", \"SMR\", \"SMR CC\", \"BEV charger\", \"biogas to gas\", \"biomass to liquid\", \"Fischer-Tropsch\", \"methanolisation\", \"V2G\"]\n",
    "carriers_links = [\"coal\", \"lignite\", \"oil\", \"biomass\"] # same carrier name than link\n",
    "carriers = carriers_links + [\"gas\", \"uranium\", \"BioSNG\", \"gas for industry\", \"gas for industry CC\", \"process emissions\", \"process emissions CC\", \"solid biomass for industry\", \"solid biomass for industry CC\"] # different carrier name than link\n",
    "transmissions = [\"DC\", \"gas pipeline\", \"gas pipeline new\", \"CO2 pipeline\", \"H2 pipeline\", \"H2 pipeline retrofitted\", \"electricity distribution grid\", \"solid biomass transport\"]\n",
    "balance_carriers_transmission_exclude = balance_exclude + carriers + transmissions\n",
    "\n",
    "n_links = {}\n",
    "for run, ni in n.items():\n",
    "    # Grab data from various sources\n",
    "    n_run = pd.concat([\n",
    "        ni.links.groupby(by=\"carrier\").sum(),\n",
    "        ni.generators.groupby(by=\"carrier\").sum(), \n",
    "        ni.storage_units.groupby(by=\"carrier\").sum()\n",
    "    ])\n",
    "    n_run = n_run.rename(index=renamer)\n",
    "    n_run = n_run[~n_run.index.isin(balance_carriers_transmission_exclude)]\n",
    "\n",
    "    # Grab exceptions for carriers/links   \n",
    "    n_y_except = ni.links.groupby(by=\"carrier\").sum()\n",
    "    n_y_except = n_y_except.rename(index=renamer)\n",
    "    n_y_except = n_y_except[n_y_except.index.isin(carriers_links)]\n",
    "\n",
    "    n_links[run] = pd.concat([n_run, n_y_except])\n",
    "    \n",
    "graph_display({k: ni.groupby(by=\"carrier\").sum()[[var]]/1e3 for k, ni in n_links.items()}, kind=\"bar\", title=\"Optimised capacity for active power for various planning horizons\", unit=\"GW\")"
   ]
  },
  {
   "cell_type": "code",
   "execution_count": null,
   "metadata": {},
   "outputs": [],
   "source": [
    "n_links_display = pd.DataFrame()\n",
    "for k, v in n_links.items():\n",
    "    payload = v[[var]].groupby(by=\"carrier\").sum().rename(columns={var: k})/1e3  #GW\n",
    "    if n_links_display.empty:\n",
    "        n_links_display = payload\n",
    "    else:\n",
    "        n_links_display = n_links_display.join(payload, on=\"carrier\", how=\"outer\")\n",
    "n_links_display[\"sum\"] = n_links_display.sum(axis=1, numeric_only=True)\n",
    "n_links_display.sort_values(by=\"sum\", ascending=False).dropna().round(2)[n_links.keys()]"
   ]
  },
  {
   "cell_type": "markdown",
   "metadata": {},
   "source": [
    "## 4. Displaying installed capacities for power balance units"
   ]
  },
  {
   "cell_type": "code",
   "execution_count": null,
   "metadata": {},
   "outputs": [],
   "source": [
    "n_storage = {}\n",
    "for run, ni in n.items():\n",
    "    n_run = pd.concat([ni.links.groupby(by=\"carrier\").sum(), ni.generators.groupby(by=\"carrier\").sum()])\n",
    "    n_run = n_run.rename(index=renamer)\n",
    "    n_run = n_run[n_run.index.isin(balance_exclude)]\n",
    "    n_storage[run] = n_run\n",
    "graph_display({k: ni.groupby(by=\"carrier\").sum()[[var]]/1e3 for k, ni in n_storage.items()}, kind=\"bar\", title=\"Optimised capacity for active power for various planning horizons\", unit=\"GW\")"
   ]
  },
  {
   "cell_type": "code",
   "execution_count": null,
   "metadata": {},
   "outputs": [],
   "source": [
    "n_storage_display = pd.DataFrame()\n",
    "for k, v in n_storage.items():\n",
    "    payload = v[[var]].groupby(by=\"carrier\").sum().rename(columns={var: k})/1e3  #GW\n",
    "    if n_storage_display.empty:\n",
    "        n_storage_display = payload\n",
    "    else:\n",
    "        n_storage_display = n_storage_display.join(payload, on=\"carrier\", how=\"outer\")\n",
    "n_storage_display[\"sum\"] = n_storage_display.sum(axis=1, numeric_only=True)\n",
    "n_storage_display.sort_values(by=\"sum\", ascending=False).dropna().round(2)[n_links.keys()]"
   ]
  },
  {
   "cell_type": "markdown",
   "metadata": {},
   "source": [
    "## 5. Displaying optimal capacity of transmission network"
   ]
  },
  {
   "cell_type": "code",
   "execution_count": null,
   "metadata": {},
   "outputs": [],
   "source": [
    "capacity = []\n",
    "\n",
    "length = [] # seems to be wrong estimation\n",
    "\n",
    "count = []\n",
    "\n",
    "titles = []\n",
    "\n",
    "for run, ni in n.items():\n",
    "    titles.append(run)\n",
    "    capacity.append(\n",
    "        (ni.lines.s_nom_opt.sum()\n",
    "        +\n",
    "        ni.links[ni.links.carrier==\"DC\"].p_nom_opt.sum())\n",
    "        /1e3\n",
    "    )\n",
    "    length.append(\n",
    "        (ni.lines.length.sum()\n",
    "         +\n",
    "         ni.links[ni.links.carrier==\"DC\"].length.sum()\n",
    "         )/1e3\n",
    "    )\n",
    "    count.append(\n",
    "        len(ni.lines.index)\n",
    "        +\n",
    "        len(ni.links[ni.links.carrier==\"DC\"].p_nom_opt.index)\n",
    "    )\n",
    "\n",
    "df = pd.DataFrame([capacity, length, count], index=[\"capacity [GVA]\", \"length [1000 km]\", \"count\"], columns=titles)\n",
    "df.plot(kind=\"bar\", title=\"AC + DC transmission network\")\n",
    "\n",
    "print(df)\n",
    "\n"
   ]
  },
  {
   "cell_type": "markdown",
   "metadata": {},
   "source": [
    "## 6. Displaying loads on various carriers"
   ]
  },
  {
   "cell_type": "code",
   "execution_count": null,
   "metadata": {},
   "outputs": [],
   "source": [
    "carriers_execpt_elec = [\"H2\", \"NH3\", \"heat\", \"oil\", \"gas\", \"kerosene\", \"solid biomass\", \"process emissions\", \"naphtha\", \"methanol\"]\n",
    "graph_display({y: pd.DataFrame((ni.loads_t.p.loc[:,~(ni.loads_t.p.columns.str.contains('|'.join(carriers_execpt_elec)))]).sum(axis=1))/1e3 for y, ni in n.items()}, title=\"Electrical load on the network\", unit=\"GW\")\n",
    "for carrier in carriers_execpt_elec:\n",
    "    if carrier != \"process emissions\":\n",
    "        graph_display({y: pd.DataFrame((ni.loads_t.p.loc[:,(ni.loads_t.p.columns.str.contains(carrier))& ~(ni.loads_t.p.columns.str.contains(\"emissions\"))]).sum(axis=1))/1e3 for y, ni in n.items()}, title=f\"{carrier.capitalize()} load on the network\", unit=\"GW\")"
   ]
  },
  {
   "cell_type": "markdown",
   "metadata": {},
   "source": [
    "## 7. Displaying annual profiles for storage units"
   ]
  },
  {
   "cell_type": "code",
   "execution_count": null,
   "metadata": {},
   "outputs": [],
   "source": [
    "for carrier in [\"hydro\", \"PHS\"]:\n",
    "    graph_display({k: get_state_of_charge_t(ni, carrier)/1e6 for k, ni in n.items()}, title=f\"State of charge of {carrier}\", unit=\"TWh\")\n",
    "for carrier in [\"H2 Store\", \"battery\", \"home battery\", \"co2 stored\", \"ammonia store\"]:\n",
    "    graph_display({k: get_e_t(ni, carrier)/1e6 for k, ni in n.items()}, title=f\"State of charge of {carrier}\", unit=r\"Mt$_{co2}$\"if carrier ==\"co2 stored\" else \"TWh\")"
   ]
  },
  {
   "cell_type": "markdown",
   "metadata": {},
   "source": [
    "## 8. Displaying profiles for load and generation"
   ]
  },
  {
   "cell_type": "code",
   "execution_count": null,
   "metadata": {},
   "outputs": [],
   "source": [
    "graph_display({y: pd.DataFrame(ni.links_t.p1[[c for c in ni.links_t.p1.columns if \"CGT\" in c]].sum(axis=1))/-1e3 for y, ni in n.items()}, title=\"Electricity provided by gas\", unit=\"GW\")\n",
    "graph_display({y: pd.DataFrame(ni.generators_t.p[[c for c in ni.generators_t.p.columns if \"wind\" in c]].sum(axis=1))/1e3 for y, ni in n.items()}, title=\"Electricity provided by wind\", unit=\"GW\")\n",
    "graph_display({y: pd.DataFrame(ni.generators_t.p[[c for c in ni.generators_t.p.columns if \"solar\" in c]].sum(axis=1))/1e3 for y, ni in n.items()}, title=\"Electricity provided by solar\", unit=\"GW\")\n",
    "graph_display({y: pd.DataFrame(ni.links_t.p1[[c for c in ni.links_t.p1.columns if \"H2 Fuel Cell\" in c]].sum(axis=1))/-1e3 for y, ni in n.items()}, title=\"Electricity provided by fuel cell\", unit=\"GW\")\n",
    "graph_display({y: pd.DataFrame(ni.links_t.p1[[c for c in ni.links_t.p1.columns if (\"battery discharger\" in c) or (\"V2G\" in c)]].sum(axis=1))/-1e3 for y, ni in n.items()}, title=\"Electricity provided by batteries / V2G\", unit=\"GW\")\n",
    "\n",
    "graph_display({y: pd.DataFrame(ni.links_t.p1[[c for c in ni.links_t.p1.columns if \"H2 Electrolysis\" in c]].sum(axis=1))/-1e3 for y, ni in n.items()}, title=\"Hydrogen provided by Electrolysis\", unit=\"GW\")\n",
    "graph_display({y: pd.DataFrame(ni.links_t.p1[[c for c in ni.links_t.p1.columns if \"Haber-Bosch\" in c]].sum(axis=1))/-1e3 for y, ni in n.items()}, title=\"Ammonia provided by Haber-Bosch\", unit=\"GW\")"
   ]
  }
 ],
 "metadata": {
  "kernelspec": {
   "display_name": "Python 3 (ipykernel)",
   "language": "python",
   "name": "python3"
  },
  "language_info": {
   "codemirror_mode": {
    "name": "ipython",
    "version": 3
   },
   "file_extension": ".py",
   "mimetype": "text/x-python",
   "name": "python",
   "nbconvert_exporter": "python",
   "pygments_lexer": "ipython3",
   "version": "3.10.12"
  }
 },
 "nbformat": 4,
 "nbformat_minor": 4
}
