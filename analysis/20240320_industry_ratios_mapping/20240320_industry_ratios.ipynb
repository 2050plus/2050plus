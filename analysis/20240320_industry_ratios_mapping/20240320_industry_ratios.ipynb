{
 "cells": [
  {
   "cell_type": "code",
   "execution_count": null,
   "metadata": {},
   "outputs": [],
   "source": [
    "from pathlib import Path\n",
    "import pandas as pd\n",
    "import numpy as np"
   ]
  },
  {
   "cell_type": "markdown",
   "metadata": {},
   "source": [
    "Define some constants"
   ]
  },
  {
   "cell_type": "code",
   "execution_count": null,
   "metadata": {},
   "outputs": [],
   "source": [
    "run = \"veka10\"\n",
    "path = Path(\"..\", \"..\", \"resources\", run)\n",
    "fn_ratios = \"industry_sector_ratios_[YEAR].csv\"\n",
    "fn_mapping = \"20240320_industry_ratios_mapping.csv\"\n",
    "fn_output = \"20240320_industry_ratios_output_[COUNTRY].xlsx\"\n",
    "years = [2020, 2030, 2040, 2050]\n",
    "country = \"BE\""
   ]
  },
  {
   "cell_type": "markdown",
   "metadata": {},
   "source": [
    "Read sector ratios data from `resources` for each year. Add mapping with defined industry."
   ]
  },
  {
   "cell_type": "code",
   "execution_count": null,
   "metadata": {},
   "outputs": [],
   "source": [
    "dfx = []\n",
    "for y in years:\n",
    "    df = (\n",
    "        pd.read_csv(Path(path, fn_ratios.replace(\"[YEAR]\", str(y))), header=[0,1], index_col=0)\n",
    "        [country]\n",
    "        .T\n",
    "    )\n",
    "    df[\"year\"] = y\n",
    "    df.index.name = \"technology\"\n",
    "    dfx.append(df)\n",
    "mapping = pd.read_csv(fn_mapping, header=0, index_col=0)\n",
    "dfx = (\n",
    "    pd.concat(dfx)\n",
    "    .join(mapping, how=\"left\")\n",
    "    .reset_index()\n",
    "    .set_index([\"industry\", \"technology\", \"year\"])\n",
    "    .sort_values(by=[\"industry\", \"technology\", \"year\"])\n",
    ")"
   ]
  },
  {
   "cell_type": "markdown",
   "metadata": {},
   "source": [
    "Define a display function to output data"
   ]
  },
  {
   "cell_type": "code",
   "execution_count": null,
   "metadata": {},
   "outputs": [],
   "source": [
    "def display_technology(df, industry):\n",
    "    df = (\n",
    "        df.query(\"industry == @industry\")\n",
    "        .replace(0, np.nan)\n",
    "        .dropna(axis=1, how=\"all\")\n",
    "        .loc[industry]\n",
    "    )\n",
    "    df.index.rename({\"technology\": \"MWh / t\"}, inplace=True)\n",
    "    return df"
   ]
  },
  {
   "cell_type": "code",
   "execution_count": null,
   "metadata": {},
   "outputs": [],
   "source": [
    "display_technology(dfx, \"Iron and Steel\")"
   ]
  },
  {
   "cell_type": "markdown",
   "metadata": {},
   "source": [
    "Write output to file"
   ]
  },
  {
   "cell_type": "code",
   "execution_count": null,
   "metadata": {},
   "outputs": [],
   "source": [
    "with pd.ExcelWriter(fn_output.replace(\"[COUNTRY]\", country)) as writer:\n",
    "    for industry in dfx.index.get_level_values(0).drop_duplicates():\n",
    "        display_technology(dfx, industry).to_excel(writer, sheet_name=industry)"
   ]
  }
 ],
 "metadata": {
  "kernelspec": {
   "display_name": "pypsa-eur-v10",
   "language": "python",
   "name": "python3"
  },
  "language_info": {
   "codemirror_mode": {
    "name": "ipython",
    "version": 3
   },
   "file_extension": ".py",
   "mimetype": "text/x-python",
   "name": "python",
   "nbconvert_exporter": "python",
   "pygments_lexer": "ipython3",
   "version": "3.11.8"
  }
 },
 "nbformat": 4,
 "nbformat_minor": 2
}
