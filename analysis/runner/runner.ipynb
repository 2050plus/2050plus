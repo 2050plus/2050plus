{
 "cells": [
  {
   "attachments": {},
   "cell_type": "markdown",
   "metadata": {},
   "source": [
    "# Runner\n",
    "\n",
    "This file is used to run simulations.\n",
    "\n",
    "## 1. First run a PyPSA simulation\n",
    "\n",
    "### 1.1 First lets clean up data and display global informations"
   ]
  },
  {
   "cell_type": "code",
   "execution_count": null,
   "metadata": {},
   "outputs": [],
   "source": [
    "import os\n",
    "\n",
    "if not os.getcwd().endswith('pypsa-eur-climact'):\n",
    "    %cd ../..\n",
    "%pwd"
   ]
  },
  {
   "cell_type": "code",
   "execution_count": null,
   "metadata": {},
   "outputs": [],
   "source": [
    "from pathlib import Path\n",
    "\n",
    "# Basic parameters to check\n",
    "run_name = \"CANEurope_allam_false_nuc_phase_out_costs_up_v1_5_no_dac_irena_phase_out_config_social16\"\n",
    "config_file = \"config.CANEurope.runner.yaml\"\n",
    "rule = \"all\"\n",
    "\n",
    "# Derived parameters\n",
    "graphs_path = Path(\"analysis\",run_name, \"graphs\")"
   ]
  },
  {
   "cell_type": "code",
   "execution_count": null,
   "metadata": {},
   "outputs": [],
   "source": [
    "# Cleaning commands\n",
    "! snakemake --unlock\n",
    "#! snakemake -call purge"
   ]
  },
  {
   "attachments": {},
   "cell_type": "markdown",
   "metadata": {},
   "source": [
    "Now that everything is clean, let's build graphs."
   ]
  },
  {
   "cell_type": "code",
   "execution_count": null,
   "metadata": {},
   "outputs": [],
   "source": [
    "dag = Path(graphs_path, \"dag.png\")\n",
    "rulegraph = Path(graphs_path, \"rulegraph.png\")\n",
    "filegraph = Path(graphs_path, \"filegraph.png\")\n",
    "\n",
    "!snakemake --configfile {config_file} --dag all | dot -Tpng -o {dag}\n",
    "!snakemake --configfile {config_file} --rulegraph all | dot -Tpng -o {rulegraph}\n",
    "!snakemake --configfile {config_file} --filegraph all | dot -Tpng -o {filegraph}\n",
    "\n",
    "from IPython.display import Image\n",
    "Image(filename=dag)"
   ]
  },
  {
   "attachments": {},
   "cell_type": "markdown",
   "metadata": {},
   "source": [
    "And let create an overview of output files."
   ]
  },
  {
   "cell_type": "code",
   "execution_count": null,
   "metadata": {},
   "outputs": [],
   "source": [
    "summary = Path(graphs_path, \"summary.csv\")\n",
    "\n",
    "!snakemake --configfile {config_file} --detailed-summary all | sed 's/,/;/g' | sed 's/\\t/,/g' > {summary}"
   ]
  },
  {
   "attachments": {},
   "cell_type": "markdown",
   "metadata": {},
   "source": [
    "### 1.2. Run code"
   ]
  },
  {
   "cell_type": "code",
   "execution_count": null,
   "metadata": {},
   "outputs": [],
   "source": [
    "!snakemake -call {rule} --configfile {config_file} --keep-going"
   ]
  }
 ],
 "metadata": {
  "kernelspec": {
   "display_name": "pypsa-eur",
   "language": "python",
   "name": "python3"
  },
  "language_info": {
   "codemirror_mode": {
    "name": "ipython",
    "version": 3
   },
   "file_extension": ".py",
   "mimetype": "text/x-python",
   "name": "python",
   "nbconvert_exporter": "python",
   "pygments_lexer": "ipython3",
   "version": "3.10.12"
  },
  "orig_nbformat": 4
 },
 "nbformat": 4,
 "nbformat_minor": 2
}
